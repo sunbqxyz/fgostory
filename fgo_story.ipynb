{
 "cells": [
  {
   "cell_type": "code",
   "execution_count": 1,
   "metadata": {},
   "outputs": [],
   "source": [
    "import os"
   ]
  },
  {
   "cell_type": "code",
   "execution_count": 2,
   "metadata": {},
   "outputs": [],
   "source": [
    "path = r'C:\\Users\\ThinkPad\\Desktop\\fgostory'"
   ]
  },
  {
   "cell_type": "code",
   "execution_count": 4,
   "metadata": {},
   "outputs": [],
   "source": [
    "files = os.listdir(path)"
   ]
  },
  {
   "cell_type": "code",
   "execution_count": 4,
   "metadata": {},
   "outputs": [
    {
     "data": {
      "text/plain": "5856"
     },
     "execution_count": 4,
     "metadata": {},
     "output_type": "execute_result"
    }
   ],
   "source": [
    "len(files)"
   ]
  },
  {
   "cell_type": "code",
   "execution_count": 6,
   "metadata": {},
   "outputs": [],
   "source": [
    "eg_name = files[0]"
   ]
  },
  {
   "cell_type": "code",
   "execution_count": 7,
   "metadata": {},
   "outputs": [],
   "source": [
    "eg_file = open(os.path.join(path,eg_name),encoding = 'utf-8')"
   ]
  },
  {
   "cell_type": "code",
   "execution_count": 7,
   "metadata": {},
   "outputs": [
    {
     "data": {
      "text/plain": "'C:\\\\Users\\\\ThinkPad\\\\Desktop\\\\fgostory\\\\0100000010.txt'"
     },
     "execution_count": 7,
     "metadata": {},
     "output_type": "execute_result"
    }
   ],
   "source": [
    "eg_file.name"
   ]
  },
  {
   "cell_type": "code",
   "execution_count": 8,
   "metadata": {},
   "outputs": [],
   "source": [
    "eg_story = eg_file.read()"
   ]
  },
  {
   "cell_type": "code",
   "execution_count": 9,
   "metadata": {},
   "outputs": [
    {
     "data": {
      "text/plain": "'＄01-00-00-00-1-0\\n\\n[soundStopAll]\\n[bgm BGM_EVENT_2 0.1]\\n[scene 10110]\\n[charaSet A 98001000 0 玛修]\\n[charaSet B 98003000 2 罗曼医生]\\n[charaSet C 98002000 2 芙芙]\\n[charaSet D 98004000 1 雷夫]\\n[charaSet E 98005000 1 奥尔加玛丽]\\n[charaSet F 98006000 1 广播语音]\\n[fadein black 1]\\n[wait fade]\\n＠[51d4ff]广播语音[-]\\n[51d4ff][line 3]碱基序列\\u3000\\u3000确认为人类基因组[-][r][51d4ff][line 3]灵器属性\\u3000\\u3000确认为善良·中立[-]\\n[k]\\n\\n＠[51d4ff]广播语音[-]\\n[51d4ff]欢迎来到讲述人类未来的资料馆。[-][r][51d4ff]这里是人理续存保障机构\\u3000迦勒底。[-]\\n[k]\\n\\n＠[51d4ff]广播语音[-]\\n[51d4ff]指纹认证\\u3000声纹认证\\u3000遗传因子认证\\u3000已完成。[-][r][51d4ff]检测魔术回路……已完成。[-]\\n[k]\\n\\n＠[51d4ff]广播语音[-]\\n[51d4ff]与注册名一致。[-][r][51d4ff]确认为灵长类生物。[-]\\n[k]\\n\\n＠[51d4ff]广播语音[-]\\n[51d4ff]初次见面。[-][r][51d4ff]您是今日\\u3000最后一位来馆者。[-]\\n[k]\\n\\n＠[51d4ff]广播语音[-]\\n[51d4ff]祝您度过一段愉快的时间。[-]\\n[k]\\n\\n[fadeout black 1]\\n[wait fade]\\n[fadein black 0]\\n[wait fade]\\n＠[51d4ff]广播语音[-]\\n[51d4ff]……非常抱歉。[-][r][51d4ff]距离完成入馆手续还需要180秒。[-]\\n[k]\\n\\n＠[51d4ff]广播语音[-]\\n[51d4ff]在此期间，您可以体验模拟战斗。[-]\\n[k]\\n\\n＠[51d4ff]广播语音[-]\\n[51d4ff]规则：高级[-][r][51d4ff]契约从者：剑士\\u3000枪兵\\u3000弓兵[-]\\n[k]\\n\\n＠[51d4ff]广播语音[-]\\n[51d4ff]分数不会进行记录。[-][r][51d4ff]请随心所欲地享受战斗。[-]\\n[k]\\n\\n[se ad1]\\n[wait se ad1]\\n＠[51d4ff]广播语音[-]\\n[51d4ff]启动英灵召唤系统\\u3000命运。[-][r][51d4ff]祝您能在这180秒的时间内获得身为御主的良好经验。[-]\\n[k]\\n\\n[messageOff]\\n[fadeout black 0.5]\\n[bgmStop BGM_EVENT_3 0.4]\\n[wait fade]\\n[soundStopAll]\\n[end]\\n'"
     },
     "execution_count": 9,
     "metadata": {},
     "output_type": "execute_result"
    }
   ],
   "source": [
    "eg_story"
   ]
  },
  {
   "cell_type": "code",
   "execution_count": 10,
   "metadata": {},
   "outputs": [],
   "source": [
    "eg_split = eg_story.split('\\n\\n')"
   ]
  },
  {
   "cell_type": "code",
   "execution_count": 11,
   "metadata": {},
   "outputs": [
    {
     "data": {
      "text/plain": "13"
     },
     "execution_count": 11,
     "metadata": {},
     "output_type": "execute_result"
    }
   ],
   "source": [
    "len(eg_split)\n"
   ]
  },
  {
   "cell_type": "code",
   "execution_count": 12,
   "metadata": {
    "pycharm": {
     "name": "#%%\n"
    }
   },
   "outputs": [
    {
     "name": "stdout",
     "output_type": "stream",
     "text": [
      "＄01-00-00-00-1-0\n",
      "\n",
      "\n",
      "[soundStopAll]\n",
      "[bgm BGM_EVENT_2 0.1]\n",
      "[scene 10110]\n",
      "[charaSet A 98001000 0 玛修]\n",
      "[charaSet B 98003000 2 罗曼医生]\n",
      "[charaSet C 98002000 2 芙芙]\n",
      "[charaSet D 98004000 1 雷夫]\n",
      "[charaSet E 98005000 1 奥尔加玛丽]\n",
      "[charaSet F 98006000 1 广播语音]\n",
      "[fadein black 1]\n",
      "[wait fade]\n",
      "＠[51d4ff]广播语音[-]\n",
      "[51d4ff][line 3]碱基序列　　确认为人类基因组[-][r][51d4ff][line 3]灵器属性　　确认为善良·中立[-]\n",
      "[k]\n",
      "\n",
      "\n",
      "＠[51d4ff]广播语音[-]\n",
      "[51d4ff]欢迎来到讲述人类未来的资料馆。[-][r][51d4ff]这里是人理续存保障机构　迦勒底。[-]\n",
      "[k]\n",
      "\n",
      "\n",
      "＠[51d4ff]广播语音[-]\n",
      "[51d4ff]指纹认证　声纹认证　遗传因子认证　已完成。[-][r][51d4ff]检测魔术回路……已完成。[-]\n",
      "[k]\n",
      "\n",
      "\n",
      "＠[51d4ff]广播语音[-]\n",
      "[51d4ff]与注册名一致。[-][r][51d4ff]确认为灵长类生物。[-]\n",
      "[k]\n",
      "\n",
      "\n",
      "＠[51d4ff]广播语音[-]\n",
      "[51d4ff]初次见面。[-][r][51d4ff]您是今日　最后一位来馆者。[-]\n",
      "[k]\n",
      "\n",
      "\n",
      "＠[51d4ff]广播语音[-]\n",
      "[51d4ff]祝您度过一段愉快的时间。[-]\n",
      "[k]\n",
      "\n",
      "\n",
      "[fadeout black 1]\n",
      "[wait fade]\n",
      "[fadein black 0]\n",
      "[wait fade]\n",
      "＠[51d4ff]广播语音[-]\n",
      "[51d4ff]……非常抱歉。[-][r][51d4ff]距离完成入馆手续还需要180秒。[-]\n",
      "[k]\n",
      "\n",
      "\n",
      "＠[51d4ff]广播语音[-]\n",
      "[51d4ff]在此期间，您可以体验模拟战斗。[-]\n",
      "[k]\n",
      "\n",
      "\n",
      "＠[51d4ff]广播语音[-]\n",
      "[51d4ff]规则：高级[-][r][51d4ff]契约从者：剑士　枪兵　弓兵[-]\n",
      "[k]\n",
      "\n",
      "\n",
      "＠[51d4ff]广播语音[-]\n",
      "[51d4ff]分数不会进行记录。[-][r][51d4ff]请随心所欲地享受战斗。[-]\n",
      "[k]\n",
      "\n",
      "\n",
      "[se ad1]\n",
      "[wait se ad1]\n",
      "＠[51d4ff]广播语音[-]\n",
      "[51d4ff]启动英灵召唤系统　命运。[-][r][51d4ff]祝您能在这180秒的时间内获得身为御主的良好经验。[-]\n",
      "[k]\n",
      "\n",
      "\n",
      "[messageOff]\n",
      "[fadeout black 0.5]\n",
      "[bgmStop BGM_EVENT_3 0.4]\n",
      "[wait fade]\n",
      "[soundStopAll]\n",
      "[end]\n",
      "\n",
      "\n",
      "\n"
     ]
    }
   ],
   "source": [
    "for e in eg_split:\n",
    "    print(e)\n",
    "    print('\\n')"
   ]
  },
  {
   "cell_type": "markdown",
   "source": [
    "**line one**\n",
    "\n",
    "e.g. '＄01-00-00-00-1-0'\n",
    "\n",
    "第一位：1为第一部，2为1.5，3为第二部，9X为幕间等；\n",
    "第三位：特异点，对应灵基管理室大条目；\n",
    "第四位，对应节数；\n",
    "第五位，节内第几段剧情（有无剧情战斗关）；\n",
    "第六位，战前战后；"
   ],
   "metadata": {
    "collapsed": false,
    "pycharm": {
     "name": "#%% md\n"
    }
   }
  },
  {
   "cell_type": "code",
   "source": [
    "content_loc = eg_split[0][1:].split('-')"
   ],
   "metadata": {
    "collapsed": false,
    "pycharm": {
     "name": "#%%\n"
    }
   },
   "execution_count": 13,
   "outputs": []
  },
  {
   "cell_type": "code",
   "execution_count": 14,
   "outputs": [],
   "source": [
    "real_content = []\n",
    "for c in eg_split:\n",
    "    if c.find('＠') != -1 or c.find('？') != -1:\n",
    "        real_content.append(c)"
   ],
   "metadata": {
    "collapsed": false,
    "pycharm": {
     "name": "#%%\n"
    }
   }
  },
  {
   "cell_type": "code",
   "execution_count": 15,
   "outputs": [],
   "source": [
    "class content:\n",
    "    args = ''\n",
    "    speaker = ''\n",
    "    msg = ''\n",
    "    cleaned_msg = ''\n",
    "    loc = []"
   ],
   "metadata": {
    "collapsed": false,
    "pycharm": {
     "name": "#%%\n"
    }
   }
  },
  {
   "cell_type": "code",
   "execution_count": 16,
   "outputs": [],
   "source": [
    "content_container = []\n",
    "for r in real_content:\n",
    "    temp = content()\n",
    "    speaker_start = r.find('＠')\n",
    "    if speaker_start == -1:\n",
    "        temp.speaker = 'Master选择'\n",
    "        temp.args = ''\n",
    "        if r == '？！':\n",
    "            temp.msg = '选择结束'\n",
    "        else:\n",
    "            temp.msg = r[1:]\n",
    "    else:\n",
    "        speaker_end = r.find('\\n',speaker_start)\n",
    "        temp.args = r[:speaker_start]\n",
    "        temp.speaker = r[speaker_start:speaker_end]\n",
    "        temp.msg = r[speaker_end:]\n",
    "    temp.loc = content_loc\n",
    "    content_container.append(temp)"
   ],
   "metadata": {
    "collapsed": false,
    "pycharm": {
     "name": "#%%\n"
    }
   }
  },
  {
   "cell_type": "code",
   "execution_count": 17,
   "outputs": [],
   "source": [
    "for cc in content_container:\n",
    "    msg = cc.msg\n",
    "    msg = msg.replace('[r]','\\n')\n",
    "    msg = msg.replace('[line 3]','——————')\n",
    "    msg = msg.replace('[line 6]','————————————')\n",
    "    for space in ['[-]','[51d4ff]','[k]']:\n",
    "        msg = msg.replace(space,'')\n",
    "    cc.cleaned_msg = msg\n",
    "\n"
   ],
   "metadata": {
    "collapsed": false,
    "pycharm": {
     "name": "#%%\n"
    }
   }
  },
  {
   "cell_type": "code",
   "execution_count": 18,
   "outputs": [],
   "source": [
    "output = ''\n",
    "current_speaker = ''\n",
    "for cc in content_container:\n",
    "    if current_speaker == cc.speaker:\n",
    "        pass\n",
    "    else:\n",
    "        output += f'『{cc.speaker}』\\n'\n",
    "    current_speaker = cc.speaker\n",
    "    output += cc.cleaned_msg"
   ],
   "metadata": {
    "collapsed": false,
    "pycharm": {
     "name": "#%%\n"
    }
   }
  },
  {
   "cell_type": "code",
   "execution_count": 19,
   "outputs": [
    {
     "name": "stdout",
     "output_type": "stream",
     "text": [
      "『＠[51d4ff]广播语音[-]』\n",
      "\n",
      "——————碱基序列　　确认为人类基因组\n",
      "——————灵器属性　　确认为善良·中立\n",
      "\n",
      "欢迎来到讲述人类未来的资料馆。\n",
      "这里是人理续存保障机构　迦勒底。\n",
      "\n",
      "指纹认证　声纹认证　遗传因子认证　已完成。\n",
      "检测魔术回路……已完成。\n",
      "\n",
      "与注册名一致。\n",
      "确认为灵长类生物。\n",
      "\n",
      "初次见面。\n",
      "您是今日　最后一位来馆者。\n",
      "\n",
      "祝您度过一段愉快的时间。\n",
      "\n",
      "……非常抱歉。\n",
      "距离完成入馆手续还需要180秒。\n",
      "\n",
      "在此期间，您可以体验模拟战斗。\n",
      "\n",
      "规则：高级\n",
      "契约从者：剑士　枪兵　弓兵\n",
      "\n",
      "分数不会进行记录。\n",
      "请随心所欲地享受战斗。\n",
      "\n",
      "启动英灵召唤系统　命运。\n",
      "祝您能在这180秒的时间内获得身为御主的良好经验。\n",
      "\n"
     ]
    }
   ],
   "source": [
    "print(output)"
   ],
   "metadata": {
    "collapsed": false,
    "pycharm": {
     "name": "#%%\n"
    }
   }
  },
  {
   "cell_type": "code",
   "execution_count": 20,
   "outputs": [],
   "source": [
    "class content:\n",
    "    args = ''\n",
    "    speaker = ''\n",
    "    msg = ''\n",
    "    cleaned_msg = ''\n",
    "    loc = []\n",
    "\n",
    "\n",
    "import os\n",
    "def get_files():\n",
    "    path = r'C:\\Users\\ThinkPad\\Desktop\\fgostory'\n",
    "    return os.listdir(path)\n",
    "\n",
    "\n",
    "def msg_clean(msg):\n",
    "    msg = msg.replace('[r]','\\n')\n",
    "    msg = msg.replace('[line 3]','——————')\n",
    "    msg = msg.replace('[line 6]','————————————')\n",
    "    for space in ['[-]','[51d4ff]','[k]']:\n",
    "        msg = msg.replace(space,'')\n",
    "    return msg\n",
    "\n",
    "\n",
    "def read_file(fname):\n",
    "    path = r'C:\\Users\\ThinkPad\\Desktop\\fgostory'\n",
    "    file = open(os.path.join(path,fname),encoding = 'utf-8')\n",
    "    story = file.read()\n",
    "    story_split = story.split('\\n\\n')\n",
    "    story_loc = story_split[0][1:].split('-')\n",
    "    real_story = []\n",
    "    for c in story_split:\n",
    "        if c.find('＠') != -1 or c.find('？') != -1:\n",
    "            real_story.append(c)\n",
    "\n",
    "    story_container = []\n",
    "    for r in real_story:\n",
    "        temp = content()\n",
    "        speaker_start = r.find('＠')\n",
    "        if speaker_start == -1:\n",
    "            temp.speaker = 'Master选择'\n",
    "            temp.args = ''\n",
    "            if r == '？！':\n",
    "                temp.msg = '选择结束'\n",
    "            else:\n",
    "                temp.msg = r[1:]\n",
    "        else:\n",
    "            speaker_end = r.find('\\n',speaker_start)\n",
    "            temp.args = r[:speaker_start]\n",
    "            temp.speaker = r[speaker_start:speaker_end]\n",
    "            temp.msg = r[speaker_end:]\n",
    "        temp.cleaned_msg = msg_clean(temp.msg)\n",
    "        temp.loc = story_loc\n",
    "        story_container.append(temp)\n",
    "\n"
   ],
   "metadata": {
    "collapsed": false,
    "pycharm": {
     "name": "#%%\n"
    }
   }
  }
 ],
 "metadata": {
  "kernelspec": {
   "display_name": "Python 3",
   "language": "python",
   "name": "python3"
  },
  "language_info": {
   "codemirror_mode": {
    "name": "ipython",
    "version": 3
   },
   "file_extension": ".py",
   "mimetype": "text/x-python",
   "name": "python",
   "nbconvert_exporter": "python",
   "pygments_lexer": "ipython3",
   "version": "3.7.4"
  }
 },
 "nbformat": 4,
 "nbformat_minor": 2
}